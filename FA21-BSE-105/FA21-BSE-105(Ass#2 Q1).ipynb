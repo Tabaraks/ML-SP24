{
  "cells": [
    {
      "cell_type": "code",
      "execution_count": 8,
      "metadata": {
        "colab": {
          "base_uri": "https://localhost:8080/"
        },
        "id": "HkMA4n_7TNYZ",
        "outputId": "32fa53ff-e25c-4817-f68b-9b2a3259fb6d"
      },
      "outputs": [
        {
          "name": "stdout",
          "output_type": "stream",
          "text": [
            "Baseline Decision Tree Classification Report:\n",
            "              precision    recall  f1-score   support\n",
            "\n",
            "        away       0.21      0.21      0.21        28\n",
            "    bullseye       0.42      0.35      0.38        37\n",
            "      circle       0.36      0.54      0.43        28\n",
            "        dino       0.18      0.16      0.17        25\n",
            "        dots       0.54      0.65      0.59        20\n",
            "     h_lines       0.79      0.75      0.77        36\n",
            "  high_lines       0.29      0.29      0.29        28\n",
            "  slant_down       0.22      0.25      0.24        24\n",
            "    slant_up       0.23      0.17      0.20        29\n",
            "        star       0.66      0.70      0.68        27\n",
            "     v_lines       0.60      0.45      0.52        33\n",
            "  wide_lines       0.23      0.23      0.23        30\n",
            "     x_shape       0.32      0.36      0.34        25\n",
            "\n",
            "    accuracy                           0.40       370\n",
            "   macro avg       0.39      0.39      0.39       370\n",
            "weighted avg       0.40      0.40      0.40       370\n",
            "\n"
          ]
        }
      ],
      "source": [
        "#Tabarak Sohail\n",
        "#27-3-24\n",
        "#In this code I have implemented random search and grid search on decision tree and random forest for the given data to find the Accuracy score.\n",
        "#If a model has a good accuracy score means it is more accurate and have high chances that it will give accurate result on real-time data\n",
        "\n",
        "from sklearn.model_selection import train_test_split, RandomizedSearchCV, GridSearchCV\n",
        "from sklearn.tree import DecisionTreeClassifier\n",
        "from sklearn.ensemble import RandomForestClassifier\n",
        "from sklearn.metrics import classification_report\n",
        "import pandas as pd\n",
        "\n",
        "\n",
        "\n",
        "from sklearn.metrics import accuracy_score\n",
        "from google.colab import drive\n",
        "import pandas as pd\n",
        "\n",
        "\n",
        "# Load the dataset\n",
        "file_path = '/content/datasaurus.csv'\n",
        "dataset = pd.read_csv(file_path)\n",
        "\n",
        "# Split the dataset into features (X) and target variable (y)\n",
        "X = dataset.drop(columns=['dataset'])\n",
        "y = dataset['dataset']\n",
        "\n",
        "# Split the dataset into training and testing sets\n",
        "X_train, X_test, y_train, y_test = train_test_split(X, y, test_size=0.2, random_state=42)\n",
        "\n",
        "# Step 2: Baseline Model\n",
        "# Initialize and\n",
        "\n",
        "\n",
        "# Step 2: Baseline Model\n",
        "# Initialize and train a baseline Decision Tree classifier\n",
        "baseline_tree = DecisionTreeClassifier(random_state=42)\n",
        "baseline_tree.fit(X_train, y_train)\n",
        "\n",
        "# Evaluate the baseline model\n",
        "baseline_tree_predictions = baseline_tree.predict(X_test)\n",
        "print(\"Baseline Decision Tree Classification Report:\")\n",
        "print(classification_report(y_test, baseline_tree_predictions))\n",
        "\n"
      ]
    },
    {
      "cell_type": "code",
      "execution_count": 17,
      "metadata": {
        "colab": {
          "base_uri": "https://localhost:8080/"
        },
        "id": "pHgH_AzsZa3s",
        "outputId": "549d8538-0230-400b-b6be-60bc48612be8"
      },
      "outputs": [
        {
          "name": "stdout",
          "output_type": "stream",
          "text": [
            "\n",
            "Optimized Decision Tree Classification Report:\n",
            "              precision    recall  f1-score   support\n",
            "\n",
            "        away       0.21      0.21      0.21        28\n",
            "    bullseye       0.42      0.35      0.38        37\n",
            "      circle       0.36      0.54      0.43        28\n",
            "        dino       0.18      0.16      0.17        25\n",
            "        dots       0.54      0.65      0.59        20\n",
            "     h_lines       0.79      0.75      0.77        36\n",
            "  high_lines       0.29      0.29      0.29        28\n",
            "  slant_down       0.22      0.25      0.24        24\n",
            "    slant_up       0.23      0.17      0.20        29\n",
            "        star       0.66      0.70      0.68        27\n",
            "     v_lines       0.60      0.45      0.52        33\n",
            "  wide_lines       0.23      0.23      0.23        30\n",
            "     x_shape       0.32      0.36      0.34        25\n",
            "\n",
            "    accuracy                           0.40       370\n",
            "   macro avg       0.39      0.39      0.39       370\n",
            "weighted avg       0.40      0.40      0.40       370\n",
            "\n"
          ]
        }
      ],
      "source": [
        "# Step 3: Optimize Model Parameters\n",
        "# a. Random Search for Decision Tree Classifier\n",
        "param_dist = {\n",
        "    'criterion': ['entropy', \"gini\"],\n",
        "    'max_depth': [None, 10, 20, 30, 40, 50],\n",
        "    'min_samples_split': [2, 5, 10],\n",
        "    'min_samples_leaf': [1, 2, 4],\n",
        "    'max_features': [ 'sqrt', 'log2', None]\n",
        "}\n",
        "random_search_tree = RandomizedSearchCV(DecisionTreeClassifier(random_state=42), param_distributions=param_dist, n_iter=100, cv=5, random_state=42)\n",
        "random_search_tree.fit(X_train, y_train)\n",
        "\n",
        "# Get the best parameters and retrain the model\n",
        "best_tree_params = random_search_tree.best_params_\n",
        "best_tree = DecisionTreeClassifier(random_state=42, **best_tree_params)\n",
        "best_tree.fit(X_train, y_train)\n",
        "\n",
        "# Evaluate the optimized Decision Tree model\n",
        "best_tree_predictions = best_tree.predict(X_test)\n",
        "print(\"\\nOptimized Decision Tree Classification Report:\")\n",
        "print(classification_report(y_test, best_tree_predictions))\n"
      ]
    },
    {
      "cell_type": "code",
      "execution_count": null,
      "metadata": {
        "id": "59x_XPa3ZS-i"
      },
      "outputs": [],
      "source": [
        "# b. Grid Search for Decision Tree Classifier (optional)\n",
        "param_grid = {\n",
        "    'criterion': ['gini', 'entropy'],\n",
        "    'max_depth': [None, 10, 20, 30, 40, 50],\n",
        "    'min_samples_split': [2, 5, 10],\n",
        "    'min_samples_leaf': [1, 2, 4],\n",
        "    'max_features': [ 'sqrt', 'log2', None]\n",
        "}\n",
        "grid_search_tree = GridSearchCV(DecisionTreeClassifier(random_state=42), param_grid=param_grid, cv=5)\n",
        "grid_search_tree.fit(X_train, y_train)\n",
        "\n",
        "# Get the best parameters and retrain the model\n",
        "best_grid_tree_params = grid_search_tree.best_params_\n",
        "best_grid_tree = DecisionTreeClassifier(random_state=42, **best_grid_tree_params)\n",
        "best_grid_tree.fit(X_train, y_train)\n",
        "\n",
        "# Evaluate the optimized Grid Search Decision Tree model\n",
        "best_grid_tree_predictions = best_grid_tree.predict(X_test)\n",
        "print(\"\\nOptimized Grid Search Decision Tree Classification Report:\")\n",
        "print(classification_report(y_test, best_grid_tree_predictions))"
      ]
    },
    {
      "cell_type": "code",
      "execution_count": 11,
      "metadata": {
        "colab": {
          "base_uri": "https://localhost:8080/"
        },
        "id": "cTPFtjh66n8V",
        "outputId": "7c6c4934-dc32-4a02-83bf-9f02558e6e3e"
      },
      "outputs": [
        {
          "name": "stdout",
          "output_type": "stream",
          "text": [
            "\n",
            "Baseline Random Forest Classification Report:\n",
            "              precision    recall  f1-score   support\n",
            "\n",
            "        away       0.28      0.18      0.22        28\n",
            "    bullseye       0.33      0.27      0.30        37\n",
            "      circle       0.57      0.86      0.69        28\n",
            "        dino       0.11      0.08      0.09        25\n",
            "        dots       0.83      0.95      0.88        20\n",
            "     h_lines       0.71      0.75      0.73        36\n",
            "  high_lines       0.32      0.25      0.28        28\n",
            "  slant_down       0.23      0.21      0.22        24\n",
            "    slant_up       0.25      0.17      0.20        29\n",
            "        star       0.56      0.74      0.63        27\n",
            "     v_lines       0.69      0.73      0.71        33\n",
            "  wide_lines       0.24      0.23      0.24        30\n",
            "     x_shape       0.43      0.64      0.52        25\n",
            "\n",
            "    accuracy                           0.46       370\n",
            "   macro avg       0.43      0.47      0.44       370\n",
            "weighted avg       0.43      0.46      0.44       370\n",
            "\n",
            "Baseline rf Tree Accuracy: 0.46216216216216216\n"
          ]
        }
      ],
      "source": [
        "\n",
        "# Split the dataset into features (X) and target variable (y)\n",
        "\n",
        "\n",
        "# Split the dataset into training and testing sets\n",
        "X_train, X_test, y_train, y_test = train_test_split(X, y, test_size=0.2, random_state=42)\n",
        "\n",
        "baseline_forest = RandomForestClassifier(random_state=42)\n",
        "baseline_forest.fit(X_train, y_train)\n",
        "baseline_forest_predictions = baseline_forest.predict(X_test)\n",
        "print(\"\\nBaseline Random Forest Classification Report:\")\n",
        "print(classification_report(y_test, baseline_forest_predictions))\n",
        "rf_baseline_accuracy = accuracy_score(y_test, baseline_forest_predictions)\n",
        "print(\"Baseline rf Tree Accuracy:\", rf_baseline_accuracy)"
      ]
    },
    {
      "cell_type": "code",
      "execution_count": 13,
      "metadata": {
        "colab": {
          "base_uri": "https://localhost:8080/"
        },
        "id": "LnrimT8_-ZmE",
        "outputId": "ea00d5e2-2518-408a-e01f-8d08cf79241e"
      },
      "outputs": [
        {
          "name": "stderr",
          "output_type": "stream",
          "text": [
            "/usr/local/lib/python3.10/dist-packages/sklearn/model_selection/_search.py:305: UserWarning: The total space of parameters 36 is smaller than n_iter=50. Running 36 iterations. For exhaustive searches, use GridSearchCV.\n",
            "  warnings.warn(\n"
          ]
        },
        {
          "name": "stdout",
          "output_type": "stream",
          "text": [
            "Random Search Decision Tree Classification Report:\n",
            "              precision    recall  f1-score   support\n",
            "\n",
            "        away       0.22      0.18      0.20        28\n",
            "    bullseye       0.40      0.38      0.39        37\n",
            "      circle       0.50      0.71      0.59        28\n",
            "        dino       0.18      0.16      0.17        25\n",
            "        dots       0.71      0.60      0.65        20\n",
            "     h_lines       0.85      0.81      0.83        36\n",
            "  high_lines       0.19      0.29      0.23        28\n",
            "  slant_down       0.26      0.29      0.27        24\n",
            "    slant_up       0.29      0.17      0.22        29\n",
            "        star       0.55      0.63      0.59        27\n",
            "     v_lines       0.58      0.45      0.51        33\n",
            "  wide_lines       0.26      0.23      0.25        30\n",
            "     x_shape       0.34      0.40      0.37        25\n",
            "\n",
            "    accuracy                           0.41       370\n",
            "   macro avg       0.41      0.41      0.40       370\n",
            "weighted avg       0.42      0.41      0.41       370\n",
            "\n",
            "Random Search Decision Tree Accuracy: 0.4135135135135135\n"
          ]
        }
      ],
      "source": [
        "# random search\n",
        "random_param_dist = {\n",
        "    'criterion': [ 'entropy'],\n",
        "    'max_depth': [10,20],\n",
        "    'min_samples_split': [2, 5, 10],\n",
        "    'min_samples_leaf': [1, 2],\n",
        "    'max_features': [ 'sqrt', 'log2', None]\n",
        "}\n",
        "\n",
        "random_search_tree = RandomizedSearchCV(baseline_tree, param_distributions=random_param_dist, n_iter=50, cv=5, random_state=43)\n",
        "random_search_tree.fit(X_train, y_train)\n",
        "\n",
        "best_random_params = random_search_tree.best_params_\n",
        "\n",
        "random_search_tree_predictions = random_search_tree.predict(X_test)\n",
        "print(\"Random Search Decision Tree Classification Report:\")\n",
        "print(classification_report(y_test, random_search_tree_predictions))\n",
        "random_search_accuracy = accuracy_score(y_test, random_search_tree_predictions)\n",
        "print(\"Random Search Decision Tree Accuracy:\", random_search_accuracy)"
      ]
    },
    {
      "cell_type": "code",
      "execution_count": 14,
      "metadata": {
        "colab": {
          "base_uri": "https://localhost:8080/"
        },
        "id": "M1JD249v-jii",
        "outputId": "67f1f0b8-f3c5-4d1b-eb45-c569a4055825"
      },
      "outputs": [
        {
          "name": "stdout",
          "output_type": "stream",
          "text": [
            "\n",
            "Grid Search Decision Tree Classification Report:\n",
            "              precision    recall  f1-score   support\n",
            "\n",
            "        away       0.29      0.29      0.29        28\n",
            "    bullseye       0.29      0.24      0.26        37\n",
            "      circle       0.40      0.50      0.44        28\n",
            "        dino       0.12      0.08      0.10        25\n",
            "        dots       0.80      0.80      0.80        20\n",
            "     h_lines       0.50      0.50      0.50        36\n",
            "  high_lines       0.30      0.32      0.31        28\n",
            "  slant_down       0.12      0.12      0.12        24\n",
            "    slant_up       0.17      0.14      0.15        29\n",
            "        star       0.58      0.70      0.63        27\n",
            "     v_lines       0.81      0.76      0.78        33\n",
            "  wide_lines       0.32      0.33      0.33        30\n",
            "     x_shape       0.33      0.40      0.36        25\n",
            "\n",
            "    accuracy                           0.40       370\n",
            "   macro avg       0.39      0.40      0.39       370\n",
            "weighted avg       0.39      0.40      0.39       370\n",
            "\n",
            "Grid Search Decision Tree Accuracy: 0.3972972972972973\n"
          ]
        }
      ],
      "source": [
        "grid_param_grid = {\n",
        "    'criterion': ['entropy'],\n",
        "    'max_depth': [ 10,20, 30],\n",
        "    'min_samples_split': [2,6,8, 10],\n",
        "    'min_samples_leaf': [1,2,6, 10],\n",
        "    'max_features': ['sqrt', 'log2']\n",
        "}\n",
        "grid_search_tree = GridSearchCV(baseline_tree, param_grid=grid_param_grid, cv=5)\n",
        "grid_search_tree.fit(X_train, y_train)\n",
        "best_grid_params = grid_search_tree.best_params_\n",
        "grid_search_tree_predictions = grid_search_tree.predict(X_test)\n",
        "print(\"\\nGrid Search Decision Tree Classification Report:\")\n",
        "print(classification_report(y_test, grid_search_tree_predictions))\n",
        "grid_search_accuracy = accuracy_score(y_test, grid_search_tree_predictions)\n",
        "print(\"Grid Search Decision Tree Accuracy:\", grid_search_accuracy)\n"
      ]
    }
  ],
  "metadata": {
    "colab": {
      "authorship_tag": "ABX9TyPGYVPxy/4t25F91ow592uS",
      "provenance": []
    },
    "kernelspec": {
      "display_name": "Python 3",
      "name": "python3"
    },
    "language_info": {
      "name": "python"
    }
  },
  "nbformat": 4,
  "nbformat_minor": 0
}
