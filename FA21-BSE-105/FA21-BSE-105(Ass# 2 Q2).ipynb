{
  "nbformat": 4,
  "nbformat_minor": 0,
  "metadata": {
    "colab": {
      "provenance": [],
      "authorship_tag": "ABX9TyPRL/jN9PcWvyLHjbeKbdXQ",
      "include_colab_link": true
    },
    "kernelspec": {
      "name": "python3",
      "display_name": "Python 3"
    },
    "language_info": {
      "name": "python"
    }
  },
  "cells": [
    {
      "cell_type": "markdown",
      "metadata": {
        "id": "view-in-github",
        "colab_type": "text"
      },
      "source": [
        "<a href=\"https://colab.research.google.com/github/Tabaraks/ML-SP24/blob/main/FA21-BSE-105(Ass%23%202%20Q2).ipynb\" target=\"_parent\"><img src=\"https://colab.research.google.com/assets/colab-badge.svg\" alt=\"Open In Colab\"/></a>"
      ]
    },
    {
      "cell_type": "code",
      "execution_count": 3,
      "metadata": {
        "colab": {
          "base_uri": "https://localhost:8080/"
        },
        "id": "R3al9i9U_8S1",
        "outputId": "443ed1d0-ecff-46be-b5eb-2fe13d1fd48b"
      },
      "outputs": [
        {
          "output_type": "stream",
          "name": "stdout",
          "text": [
            "   year  km_driven    fuel seller_type transmission         owner  \\\n",
            "0  2007      70000  Petrol  Individual       Manual   First Owner   \n",
            "1  2007      50000  Petrol  Individual       Manual   First Owner   \n",
            "2  2012     100000  Diesel  Individual       Manual   First Owner   \n",
            "3  2017      46000  Petrol  Individual       Manual   First Owner   \n",
            "4  2014     141000  Diesel  Individual       Manual  Second Owner   \n",
            "\n",
            "   selling_price  \n",
            "0          60000  \n",
            "1         135000  \n",
            "2         600000  \n",
            "3         250000  \n",
            "4         450000  \n",
            "Baseline Decision Tree MSE: 204769594752.01428\n"
          ]
        }
      ],
      "source": [
        "import pandas as pd\n",
        "from sklearn.model_selection import train_test_split, RandomizedSearchCV, GridSearchCV\n",
        "from sklearn.tree import DecisionTreeRegressor\n",
        "from sklearn.metrics import mean_squared_error\n",
        "\n",
        "file_path = '/content/cars-dataset.csv'\n",
        "cars_df = pd.read_csv(file_path)\n",
        "\n",
        "\n",
        "\n",
        "print(cars_df.head())\n",
        "cars_df = pd.get_dummies(cars_df, drop_first=True)\n",
        "X = cars_df.drop(columns=['selling_price'])\n",
        "y = cars_df['selling_price']\n",
        "# Splitting data\n",
        "X_train, X_test, y_train, y_test = train_test_split(X, y, test_size=0.2, random_state=42)\n",
        "\n",
        "baseline_tree = DecisionTreeRegressor(random_state=42)\n",
        "baseline_tree.fit(X_train, y_train)\n",
        "baseline_predictions = baseline_tree.predict(X_test)\n",
        "baseline_mse = mean_squared_error(y_test, baseline_predictions)\n",
        "print(\"Baseline Decision Tree MSE:\", baseline_mse)\n",
        "\n"
      ]
    },
    {
      "cell_type": "code",
      "source": [
        "\n",
        "# Random Search\n",
        "random_param_dist = {\n",
        "    'max_depth': [None, 10, 20, 30,50],\n",
        "    'min_samples_split': [2, 5, 10],\n",
        "    'min_samples_leaf': [1, 2, 4],\n",
        "    'max_features': [ 'sqrt', 'log2']\n",
        "}\n",
        "\n",
        "random_search_tree = RandomizedSearchCV(baseline_tree, param_distributions=random_param_dist, n_iter=50, cv=5, random_state=42)\n",
        "random_search_tree.fit(X_train, y_train)\n",
        "best_random_params = random_search_tree.best_params_\n",
        "random_search_tree_predictions = random_search_tree.predict(X_test)\n",
        "random_search_mse = mean_squared_error(y_test, random_search_tree_predictions)\n",
        "print(\"Random Search Decision Tree MSE:\", random_search_mse)"
      ],
      "metadata": {
        "colab": {
          "base_uri": "https://localhost:8080/"
        },
        "id": "uoEIbE-sApF6",
        "outputId": "d7c98266-b0f5-4454-d660-57d46c634baf"
      },
      "execution_count": 5,
      "outputs": [
        {
          "output_type": "stream",
          "name": "stdout",
          "text": [
            "Random Search Decision Tree MSE: 160781260705.86304\n"
          ]
        }
      ]
    },
    {
      "cell_type": "code",
      "source": [
        "# Grid Search\n",
        "grid_param_grid = {\n",
        "    'max_depth': [ 80],\n",
        "    'min_samples_split': [10],\n",
        "    'min_samples_leaf': [ 15],\n",
        "    'max_features': [  'sqrt', 'log2', None]\n",
        "}\n",
        "\n",
        "grid_search_tree = GridSearchCV(baseline_tree, param_grid=grid_param_grid, cv=5)\n",
        "grid_search_tree.fit(X_train, y_train)\n",
        "best_grid_params = grid_search_tree.best_params_\n",
        "grid_search_tree_predictions = grid_search_tree.predict(X_test)\n",
        "grid_search_mse = mean_squared_error(y_test, grid_search_tree_predictions)\n",
        "print(\"Grid Search Decision Tree MSE:\", grid_search_mse)"
      ],
      "metadata": {
        "colab": {
          "base_uri": "https://localhost:8080/"
        },
        "id": "oY6KjZuAA-mR",
        "outputId": "80ef1de7-4062-43f4-e27d-97a21a90c7e4"
      },
      "execution_count": 6,
      "outputs": [
        {
          "output_type": "stream",
          "name": "stdout",
          "text": [
            "Grid Search Decision Tree MSE: 174084402715.33737\n"
          ]
        }
      ]
    }
  ]
}